{
 "cells": [
  {
   "cell_type": "markdown",
   "id": "db74bf00",
   "metadata": {},
   "source": [
    "## Website List Extractor"
   ]
  },
  {
   "cell_type": "code",
   "execution_count": 1,
   "id": "874871d2",
   "metadata": {},
   "outputs": [],
   "source": [
    "df = pd.read_csv('pagewise_product_list_scraper.csv',header=0)"
   ]
  },
  {
   "cell_type": "code",
   "execution_count": 2,
   "id": "1b90fede",
   "metadata": {},
   "outputs": [],
   "source": [
    "df.drop(columns = [df.columns[0] , df.columns[1]], axis = 1, inplace=True)"
   ]
  },
  {
   "cell_type": "code",
   "execution_count": 3,
   "id": "2606f3a4",
   "metadata": {},
   "outputs": [
    {
     "data": {
      "text/html": [
       "<div>\n",
       "<style scoped>\n",
       "    .dataframe tbody tr th:only-of-type {\n",
       "        vertical-align: middle;\n",
       "    }\n",
       "\n",
       "    .dataframe tbody tr th {\n",
       "        vertical-align: top;\n",
       "    }\n",
       "\n",
       "    .dataframe thead th {\n",
       "        text-align: right;\n",
       "    }\n",
       "</style>\n",
       "<table border=\"1\" class=\"dataframe\">\n",
       "  <thead>\n",
       "    <tr style=\"text-align: right;\">\n",
       "      <th></th>\n",
       "      <th>product_image_clicker</th>\n",
       "      <th>product_image_clicker-href</th>\n",
       "    </tr>\n",
       "  </thead>\n",
       "  <tbody>\n",
       "    <tr>\n",
       "      <th>0</th>\n",
       "      <td>Kabira Mobility Kollegio Neo</td>\n",
       "      <td>https://www.bikedekho.com/kabira-mobility/koll...</td>\n",
       "    </tr>\n",
       "    <tr>\n",
       "      <th>1</th>\n",
       "      <td>GRP EV 11 Pro</td>\n",
       "      <td>https://www.bikedekho.com/grp-ev/11-pro</td>\n",
       "    </tr>\n",
       "    <tr>\n",
       "      <th>2</th>\n",
       "      <td>Kabira Hermes 75</td>\n",
       "      <td>https://www.bikedekho.com/kabira-mobility/herm...</td>\n",
       "    </tr>\n",
       "    <tr>\n",
       "      <th>3</th>\n",
       "      <td>Joy e-bike Wolf Plus</td>\n",
       "      <td>https://www.bikedekho.com/joy-e/wolfplus</td>\n",
       "    </tr>\n",
       "    <tr>\n",
       "      <th>4</th>\n",
       "      <td>Joy e-bike Gen Next Nanu Plus</td>\n",
       "      <td>https://www.bikedekho.com/joy-e/gen-nxt-nanu-plus</td>\n",
       "    </tr>\n",
       "  </tbody>\n",
       "</table>\n",
       "</div>"
      ],
      "text/plain": [
       "           product_image_clicker  \\\n",
       "0   Kabira Mobility Kollegio Neo   \n",
       "1                  GRP EV 11 Pro   \n",
       "2               Kabira Hermes 75   \n",
       "3           Joy e-bike Wolf Plus   \n",
       "4  Joy e-bike Gen Next Nanu Plus   \n",
       "\n",
       "                          product_image_clicker-href  \n",
       "0  https://www.bikedekho.com/kabira-mobility/koll...  \n",
       "1            https://www.bikedekho.com/grp-ev/11-pro  \n",
       "2  https://www.bikedekho.com/kabira-mobility/herm...  \n",
       "3           https://www.bikedekho.com/joy-e/wolfplus  \n",
       "4  https://www.bikedekho.com/joy-e/gen-nxt-nanu-plus  "
      ]
     },
     "execution_count": 3,
     "metadata": {},
     "output_type": "execute_result"
    }
   ],
   "source": [
    "df.head()"
   ]
  },
  {
   "cell_type": "code",
   "execution_count": 4,
   "id": "0603b061",
   "metadata": {},
   "outputs": [
    {
     "data": {
      "text/plain": [
       "309"
      ]
     },
     "execution_count": 4,
     "metadata": {},
     "output_type": "execute_result"
    }
   ],
   "source": [
    "# Total Entries in the list\n",
    "len(df)"
   ]
  },
  {
   "cell_type": "code",
   "execution_count": 5,
   "id": "c72412ce",
   "metadata": {},
   "outputs": [
    {
     "data": {
      "text/plain": [
       "185"
      ]
     },
     "execution_count": 5,
     "metadata": {},
     "output_type": "execute_result"
    }
   ],
   "source": [
    "# Unique Entries in the list\n",
    "len(df[df.columns[1]].unique())"
   ]
  },
  {
   "cell_type": "code",
   "execution_count": 6,
   "id": "ffcabf98",
   "metadata": {},
   "outputs": [],
   "source": [
    "website_list = list(df[df.columns[1]].unique())"
   ]
  },
  {
   "cell_type": "code",
   "execution_count": 7,
   "id": "4945b4f7",
   "metadata": {},
   "outputs": [],
   "source": [
    "for i in range(len(website_list)):\n",
    "    \n",
    "    website_list[i] = website_list[i] + '/specifications'"
   ]
  },
  {
   "cell_type": "code",
   "execution_count": 8,
   "id": "37514b0c",
   "metadata": {
    "collapsed": true
   },
   "outputs": [
    {
     "data": {
      "text/plain": [
       "['https://www.bikedekho.com/kabira-mobility/kollegio-neo/specifications',\n",
       " 'https://www.bikedekho.com/grp-ev/11-pro/specifications',\n",
       " 'https://www.bikedekho.com/kabira-mobility/hermes-75/specifications',\n",
       " 'https://www.bikedekho.com/joy-e/wolfplus/specifications',\n",
       " 'https://www.bikedekho.com/joy-e/gen-nxt-nanu-plus/specifications',\n",
       " 'https://www.bikedekho.com/zelio/gracy/specifications',\n",
       " 'https://www.bikedekho.com/zelio/gracy-i/specifications',\n",
       " 'https://www.bikedekho.com/hero-electric/eddy/specifications',\n",
       " 'https://www.bikedekho.com/fidato-evtech/loder/specifications',\n",
       " 'https://www.bikedekho.com/stella/sa1000/specifications',\n",
       " 'https://www.bikedekho.com/grp-ev/11-maxx/specifications',\n",
       " 'https://www.bikedekho.com/birla-e-bike/birla-spark/specifications',\n",
       " 'https://www.bikedekho.com/grp-ev/11-mini/specifications',\n",
       " 'https://www.bikedekho.com/ampere/zeal-ex/specifications',\n",
       " 'https://www.bikedekho.com/okaya/freedum/specifications',\n",
       " 'https://www.bikedekho.com/ola-electric/s1-pro/specifications',\n",
       " 'https://www.bikedekho.com/evolet/polo/specifications',\n",
       " 'https://www.bikedekho.com/greta-electric/harper-zx-series-1/specifications',\n",
       " 'https://www.bikedekho.com/gemopai/ryder-supermax/specifications',\n",
       " 'https://www.bikedekho.com/thunderboltev/thunderbolt-electra/specifications',\n",
       " 'https://www.bikedekho.com/deltic/legion/specifications',\n",
       " 'https://www.bikedekho.com/komaki/xgt-cat-2/specifications',\n",
       " 'https://www.bikedekho.com/birla-e-bike/v6/specifications',\n",
       " 'https://www.bikedekho.com/birla-e-bike/electro/specifications',\n",
       " 'https://www.bikedekho.com/okaya/faast-f2f/specifications',\n",
       " 'https://www.bikedekho.com/viertric/mist/specifications',\n",
       " 'https://www.bikedekho.com/gemopai/ryder/specifications',\n",
       " 'https://www.bikedekho.com/battre-electric-mobility/storie/specifications',\n",
       " 'https://www.bikedekho.com/gt-force/drive-plus/specifications',\n",
       " 'https://www.bikedekho.com/ujaas-energy/ego-li/specifications',\n",
       " 'https://www.bikedekho.com/benling-india/falcon/specifications',\n",
       " 'https://www.bikedekho.com/battre-electric-mobility/gpsie/specifications',\n",
       " 'https://www.bikedekho.com/birla-e-bike/birla-xl/specifications',\n",
       " 'https://www.bikedekho.com/prevail-electric/elite/specifications',\n",
       " 'https://www.bikedekho.com/crayon-motors/zeez/specifications',\n",
       " 'https://www.bikedekho.com/jitendra-ev/jmt-1000/specifications',\n",
       " 'https://www.bikedekho.com/hero-electric/atria/specifications',\n",
       " 'https://www.bikedekho.com/cyborg/bob-e/specifications',\n",
       " 'https://www.bikedekho.com/earth-energy-ev/evolve-z/specifications',\n",
       " 'https://www.bikedekho.com/birla-e-bike/jf/specifications',\n",
       " 'https://www.bikedekho.com/shema-e-vehicle/shema-eagle/specifications',\n",
       " 'https://www.bikedekho.com/one-moto/commuta/specifications',\n",
       " 'https://www.bikedekho.com/omega-seiki-mobility/sharq/specifications',\n",
       " 'https://www.bikedekho.com/super-eco/t1/specifications',\n",
       " 'https://www.bikedekho.com/velev-motors/vev-01/specifications',\n",
       " 'https://www.bikedekho.com/birla-e-bike/dmg/specifications',\n",
       " 'https://www.bikedekho.com/stella/sa2000/specifications',\n",
       " 'https://www.bikedekho.com/eeve/ahava/specifications',\n",
       " 'https://www.bikedekho.com/eeve/atreo/specifications',\n",
       " 'https://www.bikedekho.com/shema-e-vehicle/shema-zoom/specifications',\n",
       " 'https://www.bikedekho.com/fidato-evtech/eaasygo-plus/specifications',\n",
       " 'https://www.bikedekho.com/rbseva/rider-new/specifications',\n",
       " 'https://www.bikedekho.com/ujaas-energy/ego/specifications',\n",
       " 'https://www.bikedekho.com/kabira-mobility/intercity-aeolus/specifications',\n",
       " 'https://www.bikedekho.com/okaya/faast-f2b/specifications',\n",
       " 'https://www.bikedekho.com/benling-india/kriti/specifications',\n",
       " 'https://www.bikedekho.com/joy-e/wolf/specifications',\n",
       " 'https://www.bikedekho.com/gt-force/gt-one/specifications',\n",
       " 'https://www.bikedekho.com/odysse-electric/e2go/specifications',\n",
       " 'https://www.bikedekho.com/m2go/x-1/specifications',\n",
       " 'https://www.bikedekho.com/igowise-mobility/beigo-x4/specifications',\n",
       " 'https://www.bikedekho.com/dao/zor-405/specifications',\n",
       " 'https://www.bikedekho.com/shema-e-vehicle/shema-fly/specifications',\n",
       " 'https://www.bikedekho.com/trinity-motors/sathi/specifications',\n",
       " 'https://www.bikedekho.com/birla-e-bike/dms/specifications',\n",
       " 'https://www.bikedekho.com/shema-e-vehicle/tuff/specifications',\n",
       " 'https://www.bikedekho.com/rbseva/legend/specifications',\n",
       " 'https://www.bikedekho.com/dao/model-703/specifications',\n",
       " 'https://www.bikedekho.com/hayasa/nirbhar/specifications',\n",
       " 'https://www.bikedekho.com/avon/e-star/specifications',\n",
       " 'https://www.bikedekho.com/tunwal/elektrika-60/specifications',\n",
       " 'https://www.bikedekho.com/raftaar/galaxy/specifications',\n",
       " 'https://www.bikedekho.com/stella/buzz/specifications',\n",
       " 'https://www.bikedekho.com/deltic/trento/specifications',\n",
       " 'https://www.bikedekho.com/eveium/czar/specifications',\n",
       " 'https://www.bikedekho.com/avon/e-mate/specifications',\n",
       " 'https://www.bikedekho.com/thunderboltev/thunderbolt-bee-plus/specifications',\n",
       " 'https://www.bikedekho.com/kabira-mobility/aetos-100/specifications',\n",
       " 'https://www.bikedekho.com/benling-india/aura/specifications',\n",
       " 'https://www.bikedekho.com/merico-electric/fashia/specifications',\n",
       " 'https://www.bikedekho.com/komaki/ly/specifications',\n",
       " 'https://www.bikedekho.com/velev-motors/vio/specifications',\n",
       " 'https://www.bikedekho.com/rowwet/eleq/specifications',\n",
       " 'https://www.bikedekho.com/ivoomi/s1/specifications',\n",
       " 'https://www.bikedekho.com/numeros-motors/diplos/specifications',\n",
       " 'https://www.bikedekho.com/nds-eco-motors/lio-plus/specifications',\n",
       " 'https://www.bikedekho.com/odysse-electric/racer/specifications',\n",
       " 'https://www.bikedekho.com/poise-scooters/grace/specifications',\n",
       " 'https://www.bikedekho.com/zelio/eeva/specifications',\n",
       " 'https://www.bikedekho.com/raftaar/bumblebee/specifications',\n",
       " 'https://www.bikedekho.com/kabira-mobility/kollegio/specifications',\n",
       " 'https://www.bikedekho.com/thunderboltev/thunderbolt-ez/specifications',\n",
       " 'https://www.bikedekho.com/komaki/xgt-classic/specifications',\n",
       " 'https://www.bikedekho.com/rowwet/trono/specifications',\n",
       " 'https://www.bikedekho.com/amomobility/jaunty/specifications',\n",
       " 'https://www.bikedekho.com/gt-force/gt-soul/specifications',\n",
       " 'https://www.bikedekho.com/liions-elektrik-solutions/spock-electric-scooter/specifications',\n",
       " 'https://www.bikedekho.com/amomobility/jaunty-plus/specifications',\n",
       " 'https://www.bikedekho.com/aeroride/espark/specifications',\n",
       " 'https://www.bikedekho.com/kabira-mobility/kollegio-plus/specifications',\n",
       " 'https://www.bikedekho.com/nij-automotive/flion/specifications',\n",
       " 'https://www.bikedekho.com/amomobility/inspirer/specifications',\n",
       " 'https://www.bikedekho.com/gt-force/prime/specifications',\n",
       " 'https://www.bikedekho.com/komaki/dt-3000/specifications',\n",
       " 'https://www.bikedekho.com/birla-e-bike/a14/specifications',\n",
       " 'https://www.bikedekho.com/gt-force/flying/specifications',\n",
       " 'https://www.bikedekho.com/fidato-evtech/future-2020/specifications',\n",
       " 'https://www.bikedekho.com/gt-force/one-plus/specifications',\n",
       " 'https://www.bikedekho.com/tunwal/mini-lithino-48v/specifications',\n",
       " 'https://www.bikedekho.com/trinity-motors/friend/specifications',\n",
       " 'https://www.bikedekho.com/hayasa/daksha/specifications',\n",
       " 'https://www.bikedekho.com/etel-ev/easy-plus/specifications',\n",
       " 'https://www.bikedekho.com/tunwal/sport-63-48v/specifications',\n",
       " 'https://www.bikedekho.com/hayasa/ira/specifications',\n",
       " 'https://www.bikedekho.com/fidato-evtech/21/specifications',\n",
       " 'https://www.bikedekho.com/tunwal/strom-zx/specifications',\n",
       " 'https://www.bikedekho.com/hayasa/ojas/specifications',\n",
       " 'https://www.bikedekho.com/srivaru-motors/prana/specifications',\n",
       " 'https://www.bikedekho.com/joy-e/monster-bike/specifications',\n",
       " 'https://www.bikedekho.com/ozotec/flio/specifications',\n",
       " 'https://www.bikedekho.com/trinity-motors/yaarii/specifications',\n",
       " 'https://www.bikedekho.com/eveium/comet/specifications',\n",
       " 'https://www.bikedekho.com/bgauss/b8/specifications',\n",
       " 'https://www.bikedekho.com/eveium/cosmo/specifications',\n",
       " 'https://www.bikedekho.com/tunwal/storm-zx-advance-1/specifications',\n",
       " 'https://www.bikedekho.com/gemopai/miso/specifications',\n",
       " 'https://www.bikedekho.com/trinity-motors/rafiki-zl3/specifications',\n",
       " 'https://www.bikedekho.com/jitendra-ev/jet-320/specifications',\n",
       " 'https://www.bikedekho.com/ola-electric/s1-air/specifications',\n",
       " 'https://www.bikedekho.com/evolet/polo-pony/specifications',\n",
       " 'https://www.bikedekho.com/bgauss/d15/specifications',\n",
       " 'https://www.bikedekho.com/wroley/wroley-platina/specifications',\n",
       " 'https://www.bikedekho.com/trinity-motors/rafiki/specifications',\n",
       " 'https://www.bikedekho.com/ivoomi/eco/specifications',\n",
       " 'https://www.bikedekho.com/tunwal/tem-g33/specifications',\n",
       " 'https://www.bikedekho.com/komaki/xgt-x4/specifications',\n",
       " 'https://www.bikedekho.com/atumobile/atum-vadar/specifications',\n",
       " 'https://www.bikedekho.com/birla-e-bike/ambition/specifications',\n",
       " 'https://www.bikedekho.com/benling-india/believe/specifications',\n",
       " 'https://www.bikedekho.com/aeroride/aero/specifications',\n",
       " 'https://www.bikedekho.com/lectrix-ev/lxs/specifications',\n",
       " 'https://www.bikedekho.com/rowwet/zepop/specifications',\n",
       " 'https://www.bikedekho.com/rowwet/vegatron/specifications',\n",
       " 'https://www.bikedekho.com/trinity-motors/mitra/specifications',\n",
       " 'https://www.bikedekho.com/rowwet/rame/specifications',\n",
       " 'https://www.bikedekho.com/komaki/xgtkm/specifications',\n",
       " 'https://www.bikedekho.com/kabira-mobility/km-4000/specifications',\n",
       " 'https://www.bikedekho.com/okinawa/dual/specifications',\n",
       " 'https://www.bikedekho.com/deltic/drixx/specifications',\n",
       " 'https://www.bikedekho.com/komaki/flora/specifications',\n",
       " 'https://www.bikedekho.com/evolet/dhanno/specifications',\n",
       " 'https://www.bikedekho.com/lohia/oma/specifications',\n",
       " 'https://www.bikedekho.com/birla-e-bike/e-smart/specifications',\n",
       " 'https://www.bikedekho.com/okaya/faast-f2t/specifications',\n",
       " 'https://www.bikedekho.com/birla-e-bike/quanto/specifications',\n",
       " 'https://www.bikedekho.com/okinawa/praisepro/specifications',\n",
       " 'https://www.bikedekho.com/kinetic-green/zoom/specifications',\n",
       " 'https://www.bikedekho.com/ampere/primus/specifications',\n",
       " 'https://www.bikedekho.com/kinetic-green/zing/specifications',\n",
       " 'https://www.bikedekho.com/odysse-electric/evoqis/specifications',\n",
       " 'https://www.bikedekho.com/hero-electric/nyx/specifications',\n",
       " 'https://www.bikedekho.com/okinawa/i-praise/specifications',\n",
       " 'https://www.bikedekho.com/okinawa/r30/specifications',\n",
       " 'https://www.bikedekho.com/one-electric-motorcycles/kridn/specifications',\n",
       " 'https://www.bikedekho.com/pure-ev/ecodryft/specifications',\n",
       " 'https://www.bikedekho.com/hero-electric/photon/specifications',\n",
       " 'https://www.bikedekho.com/avon/e-plus/specifications',\n",
       " 'https://www.bikedekho.com/kabira-mobility/km-3000/specifications',\n",
       " 'https://www.bikedekho.com/avon/e-scoot/specifications',\n",
       " 'https://www.bikedekho.com/okinawa/oki90/specifications',\n",
       " 'https://www.bikedekho.com/vida/v1/specifications',\n",
       " 'https://www.bikedekho.com/ola-electric/appscooter/specifications',\n",
       " 'https://www.bikedekho.com/tvs/iqube-electric/specifications',\n",
       " 'https://www.bikedekho.com/ather-energy/450x/specifications',\n",
       " 'https://www.bikedekho.com/revolt/rv-400/specifications',\n",
       " 'https://www.bikedekho.com/bajaj/chetak/specifications',\n",
       " 'https://www.bikedekho.com/simple-energy/simple-one/specifications',\n",
       " 'https://www.bikedekho.com/ultraviolette/f77/specifications',\n",
       " 'https://www.bikedekho.com/matter-ev/matter-electric-bike/specifications',\n",
       " 'https://www.bikedekho.com/river/river-electric-scooter/specifications',\n",
       " 'https://www.bikedekho.com/hero-electric/optima/specifications',\n",
       " 'https://www.bikedekho.com/bounce/e-scooter/specifications',\n",
       " 'https://www.bikedekho.com/ampere/magnus/specifications',\n",
       " 'https://www.bikedekho.com/tork/t6x/specifications',\n",
       " 'https://www.bikedekho.com/oben/oben-electric-bike/specifications']"
      ]
     },
     "execution_count": 8,
     "metadata": {},
     "output_type": "execute_result"
    }
   ],
   "source": [
    "website_list"
   ]
  },
  {
   "cell_type": "code",
   "execution_count": 9,
   "id": "52eb94f0",
   "metadata": {
    "collapsed": true
   },
   "outputs": [
    {
     "name": "stdout",
     "output_type": "stream",
     "text": [
      "[\"https://www.bikedekho.com/kabira-mobility/kollegio-neo/specifications\", \"https://www.bikedekho.com/grp-ev/11-pro/specifications\", \"https://www.bikedekho.com/kabira-mobility/hermes-75/specifications\", \"https://www.bikedekho.com/joy-e/wolfplus/specifications\", \"https://www.bikedekho.com/joy-e/gen-nxt-nanu-plus/specifications\", \"https://www.bikedekho.com/zelio/gracy/specifications\", \"https://www.bikedekho.com/zelio/gracy-i/specifications\", \"https://www.bikedekho.com/hero-electric/eddy/specifications\", \"https://www.bikedekho.com/fidato-evtech/loder/specifications\", \"https://www.bikedekho.com/stella/sa1000/specifications\", \"https://www.bikedekho.com/grp-ev/11-maxx/specifications\", \"https://www.bikedekho.com/birla-e-bike/birla-spark/specifications\", \"https://www.bikedekho.com/grp-ev/11-mini/specifications\", \"https://www.bikedekho.com/ampere/zeal-ex/specifications\", \"https://www.bikedekho.com/okaya/freedum/specifications\", \"https://www.bikedekho.com/ola-electric/s1-pro/specifications\", \"https://www.bikedekho.com/evolet/polo/specifications\", \"https://www.bikedekho.com/greta-electric/harper-zx-series-1/specifications\", \"https://www.bikedekho.com/gemopai/ryder-supermax/specifications\", \"https://www.bikedekho.com/thunderboltev/thunderbolt-electra/specifications\", \"https://www.bikedekho.com/deltic/legion/specifications\", \"https://www.bikedekho.com/komaki/xgt-cat-2/specifications\", \"https://www.bikedekho.com/birla-e-bike/v6/specifications\", \"https://www.bikedekho.com/birla-e-bike/electro/specifications\", \"https://www.bikedekho.com/okaya/faast-f2f/specifications\", \"https://www.bikedekho.com/viertric/mist/specifications\", \"https://www.bikedekho.com/gemopai/ryder/specifications\", \"https://www.bikedekho.com/battre-electric-mobility/storie/specifications\", \"https://www.bikedekho.com/gt-force/drive-plus/specifications\", \"https://www.bikedekho.com/ujaas-energy/ego-li/specifications\", \"https://www.bikedekho.com/benling-india/falcon/specifications\", \"https://www.bikedekho.com/battre-electric-mobility/gpsie/specifications\", \"https://www.bikedekho.com/birla-e-bike/birla-xl/specifications\", \"https://www.bikedekho.com/prevail-electric/elite/specifications\", \"https://www.bikedekho.com/crayon-motors/zeez/specifications\", \"https://www.bikedekho.com/jitendra-ev/jmt-1000/specifications\", \"https://www.bikedekho.com/hero-electric/atria/specifications\", \"https://www.bikedekho.com/cyborg/bob-e/specifications\", \"https://www.bikedekho.com/earth-energy-ev/evolve-z/specifications\", \"https://www.bikedekho.com/birla-e-bike/jf/specifications\", \"https://www.bikedekho.com/shema-e-vehicle/shema-eagle/specifications\", \"https://www.bikedekho.com/one-moto/commuta/specifications\", \"https://www.bikedekho.com/omega-seiki-mobility/sharq/specifications\", \"https://www.bikedekho.com/super-eco/t1/specifications\", \"https://www.bikedekho.com/velev-motors/vev-01/specifications\", \"https://www.bikedekho.com/birla-e-bike/dmg/specifications\", \"https://www.bikedekho.com/stella/sa2000/specifications\", \"https://www.bikedekho.com/eeve/ahava/specifications\", \"https://www.bikedekho.com/eeve/atreo/specifications\", \"https://www.bikedekho.com/shema-e-vehicle/shema-zoom/specifications\", \"https://www.bikedekho.com/fidato-evtech/eaasygo-plus/specifications\", \"https://www.bikedekho.com/rbseva/rider-new/specifications\", \"https://www.bikedekho.com/ujaas-energy/ego/specifications\", \"https://www.bikedekho.com/kabira-mobility/intercity-aeolus/specifications\", \"https://www.bikedekho.com/okaya/faast-f2b/specifications\", \"https://www.bikedekho.com/benling-india/kriti/specifications\", \"https://www.bikedekho.com/joy-e/wolf/specifications\", \"https://www.bikedekho.com/gt-force/gt-one/specifications\", \"https://www.bikedekho.com/odysse-electric/e2go/specifications\", \"https://www.bikedekho.com/m2go/x-1/specifications\", \"https://www.bikedekho.com/igowise-mobility/beigo-x4/specifications\", \"https://www.bikedekho.com/dao/zor-405/specifications\", \"https://www.bikedekho.com/shema-e-vehicle/shema-fly/specifications\", \"https://www.bikedekho.com/trinity-motors/sathi/specifications\", \"https://www.bikedekho.com/birla-e-bike/dms/specifications\", \"https://www.bikedekho.com/shema-e-vehicle/tuff/specifications\", \"https://www.bikedekho.com/rbseva/legend/specifications\", \"https://www.bikedekho.com/dao/model-703/specifications\", \"https://www.bikedekho.com/hayasa/nirbhar/specifications\", \"https://www.bikedekho.com/avon/e-star/specifications\", \"https://www.bikedekho.com/tunwal/elektrika-60/specifications\", \"https://www.bikedekho.com/raftaar/galaxy/specifications\", \"https://www.bikedekho.com/stella/buzz/specifications\", \"https://www.bikedekho.com/deltic/trento/specifications\", \"https://www.bikedekho.com/eveium/czar/specifications\", \"https://www.bikedekho.com/avon/e-mate/specifications\", \"https://www.bikedekho.com/thunderboltev/thunderbolt-bee-plus/specifications\", \"https://www.bikedekho.com/kabira-mobility/aetos-100/specifications\", \"https://www.bikedekho.com/benling-india/aura/specifications\", \"https://www.bikedekho.com/merico-electric/fashia/specifications\", \"https://www.bikedekho.com/komaki/ly/specifications\", \"https://www.bikedekho.com/velev-motors/vio/specifications\", \"https://www.bikedekho.com/rowwet/eleq/specifications\", \"https://www.bikedekho.com/ivoomi/s1/specifications\", \"https://www.bikedekho.com/numeros-motors/diplos/specifications\", \"https://www.bikedekho.com/nds-eco-motors/lio-plus/specifications\", \"https://www.bikedekho.com/odysse-electric/racer/specifications\", \"https://www.bikedekho.com/poise-scooters/grace/specifications\", \"https://www.bikedekho.com/zelio/eeva/specifications\", \"https://www.bikedekho.com/raftaar/bumblebee/specifications\", \"https://www.bikedekho.com/kabira-mobility/kollegio/specifications\", \"https://www.bikedekho.com/thunderboltev/thunderbolt-ez/specifications\", \"https://www.bikedekho.com/komaki/xgt-classic/specifications\", \"https://www.bikedekho.com/rowwet/trono/specifications\", \"https://www.bikedekho.com/amomobility/jaunty/specifications\", \"https://www.bikedekho.com/gt-force/gt-soul/specifications\", \"https://www.bikedekho.com/liions-elektrik-solutions/spock-electric-scooter/specifications\", \"https://www.bikedekho.com/amomobility/jaunty-plus/specifications\", \"https://www.bikedekho.com/aeroride/espark/specifications\", \"https://www.bikedekho.com/kabira-mobility/kollegio-plus/specifications\", \"https://www.bikedekho.com/nij-automotive/flion/specifications\", \"https://www.bikedekho.com/amomobility/inspirer/specifications\", \"https://www.bikedekho.com/gt-force/prime/specifications\", \"https://www.bikedekho.com/komaki/dt-3000/specifications\", \"https://www.bikedekho.com/birla-e-bike/a14/specifications\", \"https://www.bikedekho.com/gt-force/flying/specifications\", \"https://www.bikedekho.com/fidato-evtech/future-2020/specifications\", \"https://www.bikedekho.com/gt-force/one-plus/specifications\", \"https://www.bikedekho.com/tunwal/mini-lithino-48v/specifications\", \"https://www.bikedekho.com/trinity-motors/friend/specifications\", \"https://www.bikedekho.com/hayasa/daksha/specifications\", \"https://www.bikedekho.com/etel-ev/easy-plus/specifications\", \"https://www.bikedekho.com/tunwal/sport-63-48v/specifications\", \"https://www.bikedekho.com/hayasa/ira/specifications\", \"https://www.bikedekho.com/fidato-evtech/21/specifications\", \"https://www.bikedekho.com/tunwal/strom-zx/specifications\", \"https://www.bikedekho.com/hayasa/ojas/specifications\", \"https://www.bikedekho.com/srivaru-motors/prana/specifications\", \"https://www.bikedekho.com/joy-e/monster-bike/specifications\", \"https://www.bikedekho.com/ozotec/flio/specifications\", \"https://www.bikedekho.com/trinity-motors/yaarii/specifications\", \"https://www.bikedekho.com/eveium/comet/specifications\", \"https://www.bikedekho.com/bgauss/b8/specifications\", \"https://www.bikedekho.com/eveium/cosmo/specifications\", \"https://www.bikedekho.com/tunwal/storm-zx-advance-1/specifications\", \"https://www.bikedekho.com/gemopai/miso/specifications\", \"https://www.bikedekho.com/trinity-motors/rafiki-zl3/specifications\", \"https://www.bikedekho.com/jitendra-ev/jet-320/specifications\", \"https://www.bikedekho.com/ola-electric/s1-air/specifications\", \"https://www.bikedekho.com/evolet/polo-pony/specifications\", \"https://www.bikedekho.com/bgauss/d15/specifications\", \"https://www.bikedekho.com/wroley/wroley-platina/specifications\", \"https://www.bikedekho.com/trinity-motors/rafiki/specifications\", \"https://www.bikedekho.com/ivoomi/eco/specifications\", \"https://www.bikedekho.com/tunwal/tem-g33/specifications\", \"https://www.bikedekho.com/komaki/xgt-x4/specifications\", \"https://www.bikedekho.com/atumobile/atum-vadar/specifications\", \"https://www.bikedekho.com/birla-e-bike/ambition/specifications\", \"https://www.bikedekho.com/benling-india/believe/specifications\", \"https://www.bikedekho.com/aeroride/aero/specifications\", \"https://www.bikedekho.com/lectrix-ev/lxs/specifications\", \"https://www.bikedekho.com/rowwet/zepop/specifications\", \"https://www.bikedekho.com/rowwet/vegatron/specifications\", \"https://www.bikedekho.com/trinity-motors/mitra/specifications\", \"https://www.bikedekho.com/rowwet/rame/specifications\", \"https://www.bikedekho.com/komaki/xgtkm/specifications\", \"https://www.bikedekho.com/kabira-mobility/km-4000/specifications\", \"https://www.bikedekho.com/okinawa/dual/specifications\", \"https://www.bikedekho.com/deltic/drixx/specifications\", \"https://www.bikedekho.com/komaki/flora/specifications\", \"https://www.bikedekho.com/evolet/dhanno/specifications\", \"https://www.bikedekho.com/lohia/oma/specifications\", \"https://www.bikedekho.com/birla-e-bike/e-smart/specifications\", \"https://www.bikedekho.com/okaya/faast-f2t/specifications\", \"https://www.bikedekho.com/birla-e-bike/quanto/specifications\", \"https://www.bikedekho.com/okinawa/praisepro/specifications\", \"https://www.bikedekho.com/kinetic-green/zoom/specifications\", \"https://www.bikedekho.com/ampere/primus/specifications\", \"https://www.bikedekho.com/kinetic-green/zing/specifications\", \"https://www.bikedekho.com/odysse-electric/evoqis/specifications\", \"https://www.bikedekho.com/hero-electric/nyx/specifications\", \"https://www.bikedekho.com/okinawa/i-praise/specifications\", \"https://www.bikedekho.com/okinawa/r30/specifications\", \"https://www.bikedekho.com/one-electric-motorcycles/kridn/specifications\", \"https://www.bikedekho.com/pure-ev/ecodryft/specifications\", \"https://www.bikedekho.com/hero-electric/photon/specifications\", \"https://www.bikedekho.com/avon/e-plus/specifications\", \"https://www.bikedekho.com/kabira-mobility/km-3000/specifications\", \"https://www.bikedekho.com/avon/e-scoot/specifications\", \"https://www.bikedekho.com/okinawa/oki90/specifications\", \"https://www.bikedekho.com/vida/v1/specifications\", \"https://www.bikedekho.com/ola-electric/appscooter/specifications\", \"https://www.bikedekho.com/tvs/iqube-electric/specifications\", \"https://www.bikedekho.com/ather-energy/450x/specifications\", \"https://www.bikedekho.com/revolt/rv-400/specifications\", \"https://www.bikedekho.com/bajaj/chetak/specifications\", \"https://www.bikedekho.com/simple-energy/simple-one/specifications\", \"https://www.bikedekho.com/ultraviolette/f77/specifications\", \"https://www.bikedekho.com/matter-ev/matter-electric-bike/specifications\", \"https://www.bikedekho.com/river/river-electric-scooter/specifications\", \"https://www.bikedekho.com/hero-electric/optima/specifications\", \"https://www.bikedekho.com/bounce/e-scooter/specifications\", \"https://www.bikedekho.com/ampere/magnus/specifications\", \"https://www.bikedekho.com/tork/t6x/specifications\", \"https://www.bikedekho.com/oben/oben-electric-bike/specifications\"]\n"
     ]
    }
   ],
   "source": [
    "# Conversion in desired link format with double quotes\n",
    "import json\n",
    "print(json.dumps(website_list))"
   ]
  },
  {
   "cell_type": "code",
   "execution_count": 10,
   "id": "370270d9",
   "metadata": {},
   "outputs": [],
   "source": [
    "with open(\"site_list.txt\", \"w\") as f:\n",
    "\n",
    "    f.write(json.dumps(website_list))"
   ]
  },
  {
   "cell_type": "markdown",
   "id": "8e9c337e",
   "metadata": {},
   "source": [
    "## Spec Visualization"
   ]
  },
  {
   "cell_type": "code",
   "execution_count": null,
   "id": "4b4bdd5c",
   "metadata": {},
   "outputs": [],
   "source": []
  }
 ],
 "metadata": {
  "kernelspec": {
   "display_name": "Python 3 (ipykernel)",
   "language": "python",
   "name": "python3"
  },
  "language_info": {
   "codemirror_mode": {
    "name": "ipython",
    "version": 3
   },
   "file_extension": ".py",
   "mimetype": "text/x-python",
   "name": "python",
   "nbconvert_exporter": "python",
   "pygments_lexer": "ipython3",
   "version": "3.10.9"
  }
 },
 "nbformat": 4,
 "nbformat_minor": 5
}
