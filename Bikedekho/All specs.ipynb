{
 "cells": [
  {
   "cell_type": "code",
   "execution_count": 1,
   "id": "0ab882b8",
   "metadata": {},
   "outputs": [
    {
     "name": "stdout",
     "output_type": "stream",
     "text": [
      " Volume in drive C is Boot\n",
      " Volume Serial Number is CCE1-6D38\n",
      "\n",
      " Directory of C:\\Users\\ACER\\Desktop\\BikeDekho Webscrapping\n",
      "\n",
      "06-03-2023  18:10    <DIR>          .\n",
      "06-03-2023  18:10    <DIR>          ..\n",
      "06-03-2023  18:10    <DIR>          .ipynb_checkpoints\n",
      "06-03-2023  18:10                72 All specs.ipynb\n",
      "06-03-2023  15:18             1,288 all_prod_list.txt\n",
      "06-03-2023  17:36         1,844,032 all_spec_extractor.csv\n",
      "06-03-2023  17:19            12,170 all_spec_extractor.txt\n",
      "06-03-2023  17:31         6,942,232 all_spec_extractor.xlsx\n",
      "06-03-2023  18:09            49,300 image_saver.csv\n",
      "06-03-2023  18:00            12,100 image_saver.txt\n",
      "06-03-2023  18:09           114,527 image_saver.xlsx\n",
      "06-03-2023  15:18            41,837 pagewise_product_list_scraper.csv\n",
      "06-03-2023  16:08            21,118 pagewise_product_list_scraper.xlsx\n",
      "06-03-2023  15:45            11,574 site_list.txt\n",
      "06-03-2023  16:04            17,899 spec_price_extractor.csv\n",
      "06-03-2023  15:53            11,747 spec_price_extractor.txt\n",
      "06-03-2023  16:04            56,194 spec_price_extractor.xlsx\n",
      "06-03-2023  17:08               632 test.txt\n",
      "06-03-2023  16:05            32,125 Website data list.ipynb\n",
      "              16 File(s)      9,168,847 bytes\n",
      "               3 Dir(s)  46,820,724,736 bytes free\n"
     ]
    }
   ],
   "source": [
    "ls"
   ]
  },
  {
   "cell_type": "code",
   "execution_count": null,
   "id": "ac4bfb6b",
   "metadata": {},
   "outputs": [],
   "source": []
  }
 ],
 "metadata": {
  "kernelspec": {
   "display_name": "Python 3 (ipykernel)",
   "language": "python",
   "name": "python3"
  },
  "language_info": {
   "codemirror_mode": {
    "name": "ipython",
    "version": 3
   },
   "file_extension": ".py",
   "mimetype": "text/x-python",
   "name": "python",
   "nbconvert_exporter": "python",
   "pygments_lexer": "ipython3",
   "version": "3.10.9"
  }
 },
 "nbformat": 4,
 "nbformat_minor": 5
}
